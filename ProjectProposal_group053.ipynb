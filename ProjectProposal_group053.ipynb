{
 "cells": [
  {
   "cell_type": "markdown",
   "metadata": {},
   "source": [
    "# COGS 108 - Final Project Proposal"
   ]
  },
  {
   "cell_type": "markdown",
   "metadata": {},
   "source": [
    "# Names\n",
    "\n",
    "- Dylan Lee\n",
    "- Ryan Shamoon\n",
    "- Alejandro Ramirez\n",
    "- Kamen Redfield\n",
    "- Justin Miller\n"
   ]
  },
  {
   "cell_type": "markdown",
   "metadata": {},
   "source": [
    "# Group Members IDs\n",
    "\n",
    "- A16008817\n",
    "- A15579920\n",
    "- A16123316\n",
    "- A15619416\n",
    "- A15054537\n"
   ]
  },
  {
   "cell_type": "markdown",
   "metadata": {},
   "source": [
    "# Research Question"
   ]
  },
  {
   "cell_type": "markdown",
   "metadata": {},
   "source": [
    "Did the NBA bubble preserve the “home-court advantage” that teams regularly experienced during the 2019-2020 regular season?"
   ]
  },
  {
   "cell_type": "markdown",
   "metadata": {},
   "source": [
    "# Background and Prior Work"
   ]
  },
  {
   "cell_type": "markdown",
   "metadata": {},
   "source": [
    "The National Basketball Association (NBA), is a professional men’s basketball league consisting of thirty different teams across the United States and Canada. Throughout the NBA regular season, teams play a total of eighty-two games, and the top sixteen teams with the best record from those regular season games advance to the playoffs. During those playoffs, those sixteen teams will compete against each other in an elimination bracket until one champion team remains (1). During the NBA regular season of 2020 however, unforeseen circumstances surrounding the COVID-19 pandemic put an abrupt halt towards the completion of the regular season. However, after a momentary pause towards the NBA regular season, current commissioner, Adam Silver, who oversees the entire league, implemented a new plan to finish off the regular season and the playoffs in what is called the ‘NBA Bubble.’ This NBA Bubble consisted of having the top twenty-two teams from the regular season physically relocating to the Walt Disney World Resort in Orlando Florida in order to adhere safe social distancing guidelines to finish the regular season and the playoffs there. Within the NBA Bubble, basketball players resided in various hotel rooms throughout the resort, practiced amongst their teams, and competed against each other all within the Walt Disney World Resort for an entire duration of four months (July - October), depending on how well the team performed in the regular season and playoffs (2). Given these unique and contrasting circumstances of the NBA Bubble compared to NBA seasons prior to COVID-19 and quarantine restrictions, our group was interested in using data science to determine whether or not the NBA Bubble affected player performance.\n",
    " \n",
    "Generally in sports, when two teams play, the team that is playing on their home field/court tends to perform better and win more often. The advantage of playing at home for a team often occurs from the psychological confidence from playing in front of supportive fans, the comfortability the home team has playing in familiar weather and a geographical location, and the lack of fatigue from not having to physically travel. Of course, these advantages serve to be disadvantages for the visiting team which has to perform in front of fans opposing them in a completely new location after days of traveling. As a result, it’s generally accepted by widespread sports analysts and fans that the team playing at home has the advantage (3). Now in regards to the advent of the NBA Bubble, the participating teams are forced to sequester themselves in the Walt Disney World Resort until they’re eliminated, which is a minimum of at least two months. Because of social distance precautions, teams won’t be playing in their home state/city with the absence of supporting fans. These players are physically isolated from home for a prolonged period of time, which could have adverse psychological effects as well, especially during games in a resort unfamiliar to them personally. Furthermore, players are being asked to play during turbulent circumstances, such as the ongoing fear of the COVID-19 pandemic, the social cause to promote the Black Lives Matter movement, and the upcoming presidential election, which could also detract away from basketball as a priority and hamper their performances as well. As a result, we could see how many of the advantages coming from playing at home aren’t relevant in the NBA Bubble. The NBA ultimately tried to replicate the feeling of having home court advantage through visual videos of fans, simulated audio of cheering fans, allowing home teams to warm up longer, and team decor throughout the ‘stadium’ in the resort (5). Given this, our group was curious to see how these new circumstances and attempts to replicate the feeling of playing at home in the NBA Bubble would affect overall performance across teams this season (4). \n",
    "The question was incredibly intriguing to our group because as sports fans, we are all familiar with the idea that the home team has an advantage during games they play in front of their supporters. However, it is extremely hard to quantify just how strong this “home-court advantage” is. The movement of the NBA playoffs to the bubble allows one to analyze the source of this “home-court advantage” given the lack of the significant presence that is live, in-person fans. Given the insane success of some sports teams at home, it's hard to believe this effect could ever be artificially replicated (4, 5). This is what led us to our hypothesis that simply the effect of the loud crowds that cause intense motivation and pressure in the NBA cannot be replicated by fake audio and online video streams in the crowd. If our hypothesis is proven wrong however, it could encourage more sports leagues to take a similar approach to the NBA with a bubble and artificial crowd interaction. If our hypothesis is correct, leagues will need to rethink their approach to replicating the feeling of playing at home for the players.\n",
    "\n",
    "References (include links):\n",
    "1. https://www.nba.com/news/faq \n",
    "2. https://www.espn.com/nba/story/_/id/30055011/everything-happened-nba-bubble\n",
    "3. http://psychology.iresearchnet.com/social-psychology/control/home-field-advantage/#:~:text=The%20home%2Dfield%20advantage%20refers,half%20of%20total%20games%20played\n",
    "4. https://bleacherreport.com/articles/1520496-how-important-is-home-court-advantage-in-the-nba\n",
    "5. https://clutchpoints.com/differences-between-home-vs-away-teams-in-nba-bubble-trying-to-create-home-court-advantage/"
   ]
  },
  {
   "cell_type": "markdown",
   "metadata": {},
   "source": [
    "# Hypothesis\n"
   ]
  },
  {
   "cell_type": "markdown",
   "metadata": {},
   "source": [
    "With their bubble, the NBA was unable to replicate the home-court advantage that teams experienced during the 2019-2020 regular season comparable to that provided by live, in-person fans and the physical presence in one's home city/state. This led to worse performances for the home team (compared the regular season) on average. The replication of a crowd by use of crowd noise, fan video feed, and varying warm up times are insufficient in simulating the sounds and faces of live, in-person fans. "
   ]
  },
  {
   "cell_type": "markdown",
   "metadata": {},
   "source": [
    "# Data"
   ]
  },
  {
   "cell_type": "markdown",
   "metadata": {},
   "source": [
    "Potential Variables to be observed:\n",
    "- Free Throw %\n",
    "- Win %\n",
    "- Turnovers Per Game\n",
    "- Points Allowed\n",
    "- Points Scored\n",
    "- Fast Break Points\n",
    "\n",
    "We will be observing NBA teams’ performance (based on the above variables) during the 2019-2020 season before and after the NBA restart. In an attempt to generate more accurate results, we will only be observing the 22 teams that were invited to play in the Bubble. Additionally, we will not be collecting data from games played outside of the 2019-2020 regular season/post-season due to the fact that the rosters of individual teams are likely to change between seasons which would negatively impact our data.\n",
    "\n",
    "We will collect most, if not all, of our data from online publications, websites, and public .csv files, and we will store the data across tables where each team (observation) would be stored in a single row, and each stat (variable) would be stored in a separate column. We will most likely have separate tables for games played in/outside of the Bubble, and for the games played outside of the Bubble, we may have separate tables for home and away games.\n"
   ]
  },
  {
   "cell_type": "markdown",
   "metadata": {},
   "source": [
    "# Ethics & Privacy"
   ]
  },
  {
   "cell_type": "markdown",
   "metadata": {},
   "source": [
    "Our question is well-posed and we know about the background and context of our question. As for privacy concerns, we will be using publicly available data, NBA statistics, to do our analysis and we have permission to use data on the NBA because it is publicly available. Our group will be transparent in our outcomes and which data influenced we used to come to certain conclusions. Our data should be free of any biases because they only show exactly what players did in terms of shooting, rebounding, etc and all data is published publicly by the NBA.\n",
    "\n",
    "Any biases in this project would come from human biases, for example the perception of certain players, so we will make sure we do not have any personal agendas to prove certain teams or players are better or worse than the data supports. There shouldn’t be any unintended consequences that come about from our research question because we are only comparing whether home-court advantage continued to be a factor during the bubble. We don’t need to worry about continuous monitoring because the bubble was most likely a one-time thing, and also it would not be accurate to compare teams across seasons because of the volatility of rosters in the NBA. Any issues that we do come upon, will be handled in full transparency in our report and we will find a way to work around it while reporting about any issues potentially with the data analysis or data itself."
   ]
  },
  {
   "cell_type": "markdown",
   "metadata": {},
   "source": [
    "# Team Expectations "
   ]
  },
  {
   "cell_type": "markdown",
   "metadata": {},
   "source": [
    "* Each member should try their best to complete their assigned task by the specified deadlines\n",
    "    * Don’t hesitate to ask for help when needed\n",
    "* Every team member should come in a timely matter to scheduled meetings\n",
    "    * If conflicts arise, they should communicate properly to all group members as soon as possible\n",
    "* Team members are expected to ask for help when they are needed or need input \n",
    "    * Each team member should be willing to help other members\n",
    "* Team members are generally expected to communicate about upcoming deadlines and assignments through the team group chat\n",
    "    * Generally, the team will communicate through Snapchat\n",
    "* Team members are expected to act with honesty and integrity, entirely avoiding any form of cheating or plagiarism\n"
   ]
  },
  {
   "cell_type": "markdown",
   "metadata": {},
   "source": [
    "# Project Timeline Proposal"
   ]
  },
  {
   "cell_type": "markdown",
   "metadata": {},
   "source": [
    "| Meeting Date  | Meeting Time| Completed Before Meeting  | Discuss at Meeting |\n",
    "|---|---|---|---|\n",
    "| 10/22  |  3 PM | Brainstorm project ideas  | Determine best form of communication; Discuss and decide on final project topic; discuss hypothesis; begin background research | \n",
    "| 10/29  |  3 PM |  Look for datasets | Discuss ideal dataset(s) and ethics; draft project proposal | \n",
    "| 11/5  | 3 PM  | Continue to search for datasets  | Discuss Wrangling and possible analytical approaches; Assign group members to lead each specific part   |\n",
    "| 11/12  | 3 PM  | Complete work assigned to you individually   | Review/Edit wrangling/EDA; Discuss Analysis Plan   |\n",
    "| 12/3  | 3 PM  | Finalize wrangling/EDA; Begin Analysis | Discuss/edit Analysis; Complete project check-in |\n",
    "| 12/10  | 3 PM  | Complete analysis; Draft results/conclusion/discussion | Discuss/edit full project |\n",
    "| 12/16  | Before 11:59 PM  | NA | Turn in Final Project & Group Project Surveys |"
   ]
  }
 ],
 "metadata": {
  "kernelspec": {
   "display_name": "Python 3",
   "language": "python",
   "name": "python3"
  },
  "language_info": {
   "codemirror_mode": {
    "name": "ipython",
    "version": 3
   },
   "file_extension": ".py",
   "mimetype": "text/x-python",
   "name": "python",
   "nbconvert_exporter": "python",
   "pygments_lexer": "ipython3",
   "version": "3.8.3"
  }
 },
 "nbformat": 4,
 "nbformat_minor": 2
}
